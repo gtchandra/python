{
 "cells": [
  {
   "cell_type": "markdown",
   "metadata": {},
   "source": [
    "# Lab2"
   ]
  },
  {
   "cell_type": "markdown",
   "metadata": {},
   "source": [
    "### 1) Return the largest item from the given list below, try using the builtin function ```max``` and another method using the for cycle and element comparisons\n",
    "```\n",
    "aList = [4, 6, 8, 24, 12, 2]\n",
    "```\n",
    "Expected Output:\n",
    "24"
   ]
  },
  {
   "cell_type": "code",
   "execution_count": null,
   "metadata": {},
   "outputs": [],
   "source": []
  },
  {
   "cell_type": "markdown",
   "metadata": {},
   "source": [
    "### 2) Write a function func1() such that it can accept a variable number of  arguments and print all argument values except 0"
   ]
  },
  {
   "cell_type": "markdown",
   "metadata": {},
   "source": [
    "Example:\\\n",
    "func1(20, 40, 0, 60)\\\n",
    "20\\\n",
    "40\\\n",
    "60\n",
    "\n",
    "func1(80, 100)\\\n",
    "80\\\n",
    "100"
   ]
  },
  {
   "cell_type": "code",
   "execution_count": null,
   "metadata": {},
   "outputs": [],
   "source": []
  },
  {
   "cell_type": "markdown",
   "metadata": {},
   "source": [
    "### 3) remove the duplicates present in the following tuple, then print it sorted (hint you can use the Set data structure to remove duplicates)\n",
    "aTuple=(1,2,3,5,6,6,7,2,3,7,3,25,23,3,41)"
   ]
  },
  {
   "cell_type": "code",
   "execution_count": null,
   "metadata": {},
   "outputs": [],
   "source": []
  },
  {
   "cell_type": "markdown",
   "metadata": {},
   "source": [
    "### 4) concatenate two lists index wise using the zip function\n",
    "list1 = [\"M\", \"na\", \"i\", \"Ke\"] \\\n",
    "list2 = [\"y\", \"me\", \"s\", \"lly\"]\n",
    "to obtain:\\\n",
    "['My', 'name', 'is', 'Kelly']"
   ]
  },
  {
   "cell_type": "code",
   "execution_count": null,
   "metadata": {},
   "outputs": [],
   "source": []
  },
  {
   "cell_type": "markdown",
   "metadata": {},
   "source": [
    "### 5) Given a two Python list. Iterate both lists simultaneously such that list1 should display item in original order and list2 in reverse order\\\n",
    "list1 = [10, 20, 30, 40]\\\n",
    "list2 = [100, 200, 300, 400]\\\n",
    "Expected Output:\\\n",
    "10 400\\\n",
    "20 300\\\n",
    "30 200\\\n",
    "40 100"
   ]
  },
  {
   "cell_type": "code",
   "execution_count": null,
   "metadata": {},
   "outputs": [],
   "source": []
  },
  {
   "cell_type": "markdown",
   "metadata": {},
   "source": [
    "### 6) Remove empty strings from the list of strings:\\\n",
    "list1 = [\"Mike\", \"\", \"Emma\", \"Kelly\", \"\", \"Brad\"]\\\n",
    "Expected output:\\\n",
    "[\"Mike\", \"Emma\", \"Kelly\", \"Brad\"]"
   ]
  },
  {
   "cell_type": "code",
   "execution_count": null,
   "metadata": {},
   "outputs": [],
   "source": []
  },
  {
   "cell_type": "markdown",
   "metadata": {},
   "source": [
    "### 7) Given a Python list, create a function that can remove all the elements in the list with a specific value\\\n",
    "list1 = [5, 10, 15, 20, 25, 50, 20]\\\n",
    "expected output:\\\n",
    "func1(list1,20)\\\n",
    "[5, 10, 15, 25, 50]"
   ]
  },
  {
   "cell_type": "code",
   "execution_count": null,
   "metadata": {},
   "outputs": [],
   "source": []
  },
  {
   "cell_type": "markdown",
   "metadata": {},
   "source": [
    "### 8)  Build a function that takes one parameter, a word and returns True on palindrome objects\n",
    "example: \n",
    "```\n",
    "pal(\"RADAR\") \n",
    "True\n",
    "```"
   ]
  },
  {
   "cell_type": "markdown",
   "metadata": {},
   "source": [
    "### 9) Build a function that calculates the average of a set of numbers given as input parameters with as many input parameters as we wish.\n",
    "\n",
    "Example: \n",
    "```\n",
    "avg(1,5)\n",
    "6\n",
    "avg(1,2,3,4,5,6,7,8,9,10)\n",
    "5.5\n",
    "```"
   ]
  },
  {
   "cell_type": "code",
   "execution_count": null,
   "metadata": {},
   "outputs": [],
   "source": []
  },
  {
   "cell_type": "markdown",
   "metadata": {},
   "source": [
    "### 10) Create a class that can represent a playing card, with a constructor where you can choose the rank and the suit.\n",
    "Example: \n",
    "```\n",
    "a=Card('Hearts',12)\n",
    "print (a.show())\n",
    "Q❤️\n",
    "```"
   ]
  },
  {
   "cell_type": "markdown",
   "metadata": {},
   "source": []
  },
  {
   "cell_type": "code",
   "execution_count": null,
   "metadata": {},
   "outputs": [],
   "source": []
  },
  {
   "cell_type": "markdown",
   "metadata": {},
   "source": [
    "### 11) From the previous exercise: add a random method that turns the card into a random chosen value within the rank and suit range.\n",
    "Example: \n",
    "```\n",
    "a=Card('Hearts',12)\n",
    "print (a.show())\n",
    "Q❤️\n",
    "a.random()\n",
    "print (a.show())\n",
    "3♦️\n",
    "```"
   ]
  },
  {
   "cell_type": "markdown",
   "metadata": {},
   "source": []
  }
 ],
 "metadata": {
  "kernelspec": {
   "display_name": "Python 3 (ipykernel)",
   "language": "python",
   "name": "python3"
  },
  "language_info": {
   "codemirror_mode": {
    "name": "ipython",
    "version": 3
   },
   "file_extension": ".py",
   "mimetype": "text/x-python",
   "name": "python",
   "nbconvert_exporter": "python",
   "pygments_lexer": "ipython3",
   "version": "3.8.9"
  }
 },
 "nbformat": 4,
 "nbformat_minor": 4
}
