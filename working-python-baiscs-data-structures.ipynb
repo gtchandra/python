{
 "cells": [
  {
   "cell_type": "code",
   "execution_count": 1,
   "id": "e18caf68-540a-428c-b415-966198376ce2",
   "metadata": {},
   "outputs": [
    {
     "name": "stdout",
     "output_type": "stream",
     "text": [
      "\n",
      "Welcome to Python 3.9's help utility!\n",
      "\n",
      "If this is your first time using Python, you should definitely check out\n",
      "the tutorial on the Internet at https://docs.python.org/3.9/tutorial/.\n",
      "\n",
      "Enter the name of any module, keyword, or topic to get help on writing\n",
      "Python programs and using Python modules.  To quit this help utility and\n",
      "return to the interpreter, just type \"quit\".\n",
      "\n",
      "To get a list of available modules, keywords, symbols, or topics, type\n",
      "\"modules\", \"keywords\", \"symbols\", or \"topics\".  Each module also comes\n",
      "with a one-line summary of what it does; to list the modules whose name\n",
      "or summary contain a given string such as \"spam\", type \"modules spam\".\n",
      "\n"
     ]
    },
    {
     "name": "stdin",
     "output_type": "stream",
     "text": [
      "help>  print\n"
     ]
    },
    {
     "name": "stdout",
     "output_type": "stream",
     "text": [
      "Help on built-in function print in module builtins:\n",
      "\n",
      "print(...)\n",
      "    print(value, ..., sep=' ', end='\\n', file=sys.stdout, flush=False)\n",
      "    \n",
      "    Prints the values to a stream, or to sys.stdout by default.\n",
      "    Optional keyword arguments:\n",
      "    file:  a file-like object (stream); defaults to the current sys.stdout.\n",
      "    sep:   string inserted between values, default a space.\n",
      "    end:   string appended after the last value, default a newline.\n",
      "    flush: whether to forcibly flush the stream.\n",
      "\n"
     ]
    },
    {
     "name": "stdin",
     "output_type": "stream",
     "text": [
      "help>  quit\n"
     ]
    },
    {
     "name": "stdout",
     "output_type": "stream",
     "text": [
      "\n",
      "You are now leaving help and returning to the Python interpreter.\n",
      "If you want to ask for help on a particular object directly from the\n",
      "interpreter, you can type \"help(object)\".  Executing \"help('string')\"\n",
      "has the same effect as typing a particular string at the help> prompt.\n"
     ]
    }
   ],
   "source": [
    "help()"
   ]
  },
  {
   "cell_type": "code",
   "execution_count": 2,
   "id": "ca34347d-a754-4940-945a-686f17dcf3bb",
   "metadata": {},
   "outputs": [
    {
     "name": "stdout",
     "output_type": "stream",
     "text": [
      "\n",
      "Welcome to Python 3.9's help utility!\n",
      "\n",
      "If this is your first time using Python, you should definitely check out\n",
      "the tutorial on the Internet at https://docs.python.org/3.9/tutorial/.\n",
      "\n",
      "Enter the name of any module, keyword, or topic to get help on writing\n",
      "Python programs and using Python modules.  To quit this help utility and\n",
      "return to the interpreter, just type \"quit\".\n",
      "\n",
      "To get a list of available modules, keywords, symbols, or topics, type\n",
      "\"modules\", \"keywords\", \"symbols\", or \"topics\".  Each module also comes\n",
      "with a one-line summary of what it does; to list the modules whose name\n",
      "or summary contain a given string such as \"spam\", type \"modules spam\".\n",
      "\n"
     ]
    },
    {
     "name": "stdin",
     "output_type": "stream",
     "text": [
      "help>  keywords\n"
     ]
    },
    {
     "name": "stdout",
     "output_type": "stream",
     "text": [
      "\n",
      "Here is a list of the Python keywords.  Enter any keyword to get more help.\n",
      "\n",
      "False               break               for                 not\n",
      "None                class               from                or\n",
      "True                continue            global              pass\n",
      "__peg_parser__      def                 if                  raise\n",
      "and                 del                 import              return\n",
      "as                  elif                in                  try\n",
      "assert              else                is                  while\n",
      "async               except              lambda              with\n",
      "await               finally             nonlocal            yield\n",
      "\n"
     ]
    },
    {
     "name": "stdin",
     "output_type": "stream",
     "text": [
      "help>  quit\n"
     ]
    },
    {
     "name": "stdout",
     "output_type": "stream",
     "text": [
      "\n",
      "You are now leaving help and returning to the Python interpreter.\n",
      "If you want to ask for help on a particular object directly from the\n",
      "interpreter, you can type \"help(object)\".  Executing \"help('string')\"\n",
      "has the same effect as typing a particular string at the help> prompt.\n"
     ]
    }
   ],
   "source": [
    "help()\n"
   ]
  },
  {
   "cell_type": "code",
   "execution_count": 3,
   "id": "e251a1d8-3bc1-4b16-a45b-43fbb980e004",
   "metadata": {},
   "outputs": [],
   "source": [
    "variable=1234\n"
   ]
  },
  {
   "cell_type": "code",
   "execution_count": 4,
   "id": "436934f2-25f9-41da-b12f-a8b79285769b",
   "metadata": {},
   "outputs": [
    {
     "name": "stdout",
     "output_type": "stream",
     "text": [
      "1234\n"
     ]
    }
   ],
   "source": [
    "print(variable)"
   ]
  },
  {
   "cell_type": "code",
   "execution_count": 5,
   "id": "219f1785-15c0-401d-90fc-04f8c89f4b7b",
   "metadata": {},
   "outputs": [],
   "source": [
    "c=12/5"
   ]
  },
  {
   "cell_type": "code",
   "execution_count": 8,
   "id": "62715f20-945f-43b9-8324-e4fe65514cea",
   "metadata": {},
   "outputs": [
    {
     "data": {
      "text/plain": [
       "int"
      ]
     },
     "execution_count": 8,
     "metadata": {},
     "output_type": "execute_result"
    }
   ],
   "source": [
    "type(variable)"
   ]
  },
  {
   "cell_type": "code",
   "execution_count": 9,
   "id": "8b9cf3c5-f32a-4c10-9df3-cfe86ed67c13",
   "metadata": {},
   "outputs": [],
   "source": [
    "d=\"name\""
   ]
  },
  {
   "cell_type": "code",
   "execution_count": 10,
   "id": "68f04dae-4bc7-4756-a31e-8a4851155b8f",
   "metadata": {},
   "outputs": [
    {
     "data": {
      "text/plain": [
       "str"
      ]
     },
     "execution_count": 10,
     "metadata": {},
     "output_type": "execute_result"
    }
   ],
   "source": [
    "type(d)"
   ]
  },
  {
   "cell_type": "code",
   "execution_count": 11,
   "id": "18f88a95-a7c3-44b6-b1c8-93409411187e",
   "metadata": {},
   "outputs": [],
   "source": [
    "d=True"
   ]
  },
  {
   "cell_type": "code",
   "execution_count": 18,
   "id": "e0ae2148-d810-4279-a0de-d2cc57eeb7cd",
   "metadata": {},
   "outputs": [],
   "source": [
    "a,b = (2,2)"
   ]
  },
  {
   "cell_type": "code",
   "execution_count": 19,
   "id": "f8b2d9b9-4cc3-40f0-83b5-f420012b3c38",
   "metadata": {},
   "outputs": [
    {
     "data": {
      "text/plain": [
       "True"
      ]
     },
     "execution_count": 19,
     "metadata": {},
     "output_type": "execute_result"
    }
   ],
   "source": [
    "b==a"
   ]
  },
  {
   "cell_type": "code",
   "execution_count": 20,
   "id": "45e734c3-dcaa-4ad0-bc73-defed1e9e7c3",
   "metadata": {},
   "outputs": [],
   "source": [
    "year_of_birth = 1994\n",
    "height_cm = 170.50\n",
    "subject = \"Data Science\"\n",
    "is_success = True"
   ]
  },
  {
   "cell_type": "code",
   "execution_count": 21,
   "id": "030acdf8-5c73-4732-b8f5-71666fadd630",
   "metadata": {},
   "outputs": [
    {
     "name": "stdout",
     "output_type": "stream",
     "text": [
      "<class 'int'> <class 'float'> <class 'str'> <class 'bool'>\n"
     ]
    }
   ],
   "source": [
    "print(type(year_of_birth), type(height_cm), type(subject), type(is_success))"
   ]
  },
  {
   "cell_type": "code",
   "execution_count": 22,
   "id": "4ea02edb-fa9d-49aa-b46e-2330990d445f",
   "metadata": {},
   "outputs": [],
   "source": [
    "fruits = [\"pineapple\", \"apple\", \"lemon\", \"strawberry\", \"orange\", \"kiwi\"]"
   ]
  },
  {
   "cell_type": "code",
   "execution_count": 35,
   "id": "1c3ee73f-62ee-4b53-9f55-63f25a7f932c",
   "metadata": {},
   "outputs": [
    {
     "data": {
      "text/plain": [
       "['kiwi', 'orange', 'strawberry', 'lemon', 'apple', 'pineapple']"
      ]
     },
     "execution_count": 35,
     "metadata": {},
     "output_type": "execute_result"
    }
   ],
   "source": [
    "fruits[::-1]"
   ]
  },
  {
   "cell_type": "code",
   "execution_count": 36,
   "id": "2223d03c-c204-474b-94d1-e4b5860e24de",
   "metadata": {},
   "outputs": [
    {
     "data": {
      "text/plain": [
       "'strawberry'"
      ]
     },
     "execution_count": 36,
     "metadata": {},
     "output_type": "execute_result"
    }
   ],
   "source": [
    "fruits[1]  # apple\n",
    "fruits[0]  # \"pineapple\"\n",
    "fruits[-1] # \"kiwi\"\n",
    "fruits[5]  # \"kiwi\"\n",
    "fruits[-3] # \"strawberry\""
   ]
  },
  {
   "cell_type": "code",
   "execution_count": null,
   "id": "a73d1e9d-5105-4d34-ad5b-0a515b438106",
   "metadata": {},
   "outputs": [],
   "source": [
    "fruits[::]    # [\"pineapple\", \"apple\", \"lemon\", \"strawberry\", \"orange\", \"kiwi\"]\n",
    "fruits[0:2]   # [\"pineapple\", \"apple\"]\n",
    "fruits[-2:-1] # [\"orange\"]\n",
    "fruits[3:]    # [\"strawberry\", \"orange\", \"kiwi\"]\n",
    "fruits[:4]    # [\"pineapple\", \"apple\", \"lemon\", \"strawberry\"]\n",
    "fruits[:]     # [\"pineapple\", \"apple\", \"lemon\", \"strawberry\", \"orange\", \"kiwi\"]\n",
    "fruits[::-1]  # [\"kiwi\", \"orange\", \"strawberry\", \"lemon\", \"apple\", \"pineapple\"]\n",
    "fruits[::-2]  # [\"kiwi\", \"strawberry\", \"apple\"]\n",
    "fruits[::2]   # [\"pineapple\", \"lemon\", \"orange\"]"
   ]
  },
  {
   "cell_type": "code",
   "execution_count": 38,
   "id": "88d50b3d-a47e-4c73-a03b-c32220919cd2",
   "metadata": {},
   "outputs": [],
   "source": [
    "fruits.append('peach')"
   ]
  },
  {
   "cell_type": "code",
   "execution_count": 39,
   "id": "182fca55-42e6-41c7-b431-6ca3b1cf8e91",
   "metadata": {},
   "outputs": [
    {
     "data": {
      "text/plain": [
       "['pineapple', 'apple', 'lemon', 'strawberry', 'orange', 'kiwi', 'peach']"
      ]
     },
     "execution_count": 39,
     "metadata": {},
     "output_type": "execute_result"
    }
   ],
   "source": [
    "fruits"
   ]
  },
  {
   "cell_type": "code",
   "execution_count": 40,
   "id": "76955a33-7ee8-42cb-900d-0a3766902cd1",
   "metadata": {},
   "outputs": [],
   "source": [
    "fruits=fruits+['fig','melon']"
   ]
  },
  {
   "cell_type": "code",
   "execution_count": 41,
   "id": "c9cabb40-b481-459b-bd7a-bb8cf9bc6d83",
   "metadata": {},
   "outputs": [
    {
     "data": {
      "text/plain": [
       "['pineapple',\n",
       " 'apple',\n",
       " 'lemon',\n",
       " 'strawberry',\n",
       " 'orange',\n",
       " 'kiwi',\n",
       " 'peach',\n",
       " 'fig',\n",
       " 'melon']"
      ]
     },
     "execution_count": 41,
     "metadata": {},
     "output_type": "execute_result"
    }
   ],
   "source": [
    "fruits"
   ]
  },
  {
   "cell_type": "code",
   "execution_count": 43,
   "id": "909b96d9-944b-4a72-ab5e-659a7a73f8ef",
   "metadata": {},
   "outputs": [],
   "source": [
    "fruits[0:2]=['grape', 'mango']"
   ]
  },
  {
   "cell_type": "code",
   "execution_count": 44,
   "id": "f8344974-599d-4f1b-8869-9d37fdbd3035",
   "metadata": {},
   "outputs": [
    {
     "data": {
      "text/plain": [
       "['grape',\n",
       " 'mango',\n",
       " 'lemon',\n",
       " 'strawberry',\n",
       " 'orange',\n",
       " 'kiwi',\n",
       " 'peach',\n",
       " 'fig',\n",
       " 'melon']"
      ]
     },
     "execution_count": 44,
     "metadata": {},
     "output_type": "execute_result"
    }
   ],
   "source": [
    "fruits"
   ]
  },
  {
   "cell_type": "code",
   "execution_count": 45,
   "id": "a03b5697-cac0-486e-b8e6-5833f0ff133e",
   "metadata": {},
   "outputs": [],
   "source": [
    "fruits.remove('mango')"
   ]
  },
  {
   "cell_type": "code",
   "execution_count": 46,
   "id": "9b1bf390-0011-4e06-8a01-c099ab32f7c2",
   "metadata": {},
   "outputs": [
    {
     "data": {
      "text/plain": [
       "['grape', 'lemon', 'strawberry', 'orange', 'kiwi', 'peach', 'fig', 'melon']"
      ]
     },
     "execution_count": 46,
     "metadata": {},
     "output_type": "execute_result"
    }
   ],
   "source": [
    "fruits"
   ]
  },
  {
   "cell_type": "code",
   "execution_count": 47,
   "id": "c3df765d-d806-4011-bc92-5f5eed141b8c",
   "metadata": {},
   "outputs": [
    {
     "data": {
      "text/plain": [
       "8"
      ]
     },
     "execution_count": 47,
     "metadata": {},
     "output_type": "execute_result"
    }
   ],
   "source": [
    "len(fruits)"
   ]
  },
  {
   "cell_type": "code",
   "execution_count": 63,
   "id": "6ea0a246-46ef-4aff-9c2a-29acb5ecd682",
   "metadata": {},
   "outputs": [],
   "source": [
    "a=[1,2,3]\n",
    "b=a[::]"
   ]
  },
  {
   "cell_type": "code",
   "execution_count": 64,
   "id": "36766413-4bac-413c-ac4e-5938c2da8e5a",
   "metadata": {},
   "outputs": [
    {
     "data": {
      "text/plain": [
       "[1, 2, 3]"
      ]
     },
     "execution_count": 64,
     "metadata": {},
     "output_type": "execute_result"
    }
   ],
   "source": [
    "a"
   ]
  },
  {
   "cell_type": "code",
   "execution_count": 65,
   "id": "83460673-534d-4540-8b51-09a93292648e",
   "metadata": {},
   "outputs": [
    {
     "data": {
      "text/plain": [
       "[1, 2, 3]"
      ]
     },
     "execution_count": 65,
     "metadata": {},
     "output_type": "execute_result"
    }
   ],
   "source": [
    "b"
   ]
  },
  {
   "cell_type": "code",
   "execution_count": 66,
   "id": "8400a9b1-450d-4048-8c00-f6d8e91a0091",
   "metadata": {},
   "outputs": [],
   "source": [
    "a[0]=7"
   ]
  },
  {
   "cell_type": "code",
   "execution_count": 67,
   "id": "24ff3f21-575f-474d-9a21-16e57243f061",
   "metadata": {},
   "outputs": [
    {
     "data": {
      "text/plain": [
       "[7, 2, 3]"
      ]
     },
     "execution_count": 67,
     "metadata": {},
     "output_type": "execute_result"
    }
   ],
   "source": [
    "a"
   ]
  },
  {
   "cell_type": "code",
   "execution_count": 68,
   "id": "cca89d88-d3d4-4e4f-9792-d88da115780b",
   "metadata": {},
   "outputs": [
    {
     "data": {
      "text/plain": [
       "[1, 2, 3]"
      ]
     },
     "execution_count": 68,
     "metadata": {},
     "output_type": "execute_result"
    }
   ],
   "source": [
    "b"
   ]
  },
  {
   "cell_type": "code",
   "execution_count": null,
   "id": "eec80b62-89e5-41d6-beac-7e9991602e54",
   "metadata": {},
   "outputs": [],
   "source": [
    "numbers = [10, 42, 28, 420]\n",
    "numbers_copy = numbers\n",
    "numbers_copy[2] = 100\n",
    "numbers      # [10, 42, 100, 420]\n",
    "numbers_copy # [10, 42, 100, 420]"
   ]
  },
  {
   "cell_type": "code",
   "execution_count": null,
   "id": "3830923c-c258-4ab4-b611-97262a908595",
   "metadata": {},
   "outputs": [],
   "source": [
    "\n",
    "characters = [\"A\", \"B\", \"C\"]\n",
    "characters_copy = list(characters)\n",
    "characters_copy[-1] = \"D\"\n",
    "characters      # [\"A\", \"B\", \"C\"]\n",
    "characters_copy # [\"A\", \"B\", \"D\"]ratings = [4.5, 5.0, 3.5, 4.75, 4.00]\n",
    "ratings_copy = ratings[:]\n",
    "ratings_copy[0] = 2.0\n",
    "ratings      # [4.5, 5.0, 3.5, 4.75, 4.0]\n",
    "ratings_copy # [2.0, 5.0, 3.5, 4.75, 4.0]"
   ]
  },
  {
   "cell_type": "code",
   "execution_count": 69,
   "id": "fa4c3b4c-bfb6-4bfd-a62e-e51e94211841",
   "metadata": {},
   "outputs": [
    {
     "name": "stdout",
     "output_type": "stream",
     "text": [
      "2\n"
     ]
    }
   ],
   "source": [
    "# + - * / \n",
    "r= 11 % 3\n",
    "print(r)\n"
   ]
  },
  {
   "cell_type": "code",
   "execution_count": 70,
   "id": "fcabf7ba-8a64-49c3-bdf5-5f0a1bf0d6f9",
   "metadata": {},
   "outputs": [
    {
     "name": "stdout",
     "output_type": "stream",
     "text": [
      "32\n"
     ]
    }
   ],
   "source": [
    "power=2**5\n",
    "print (power)"
   ]
  },
  {
   "cell_type": "code",
   "execution_count": 71,
   "id": "8e526645-3a8e-41c0-b4a6-b4cdc2a349bb",
   "metadata": {},
   "outputs": [
    {
     "data": {
      "text/plain": [
       "[1, 2, 3, 1, 2, 3]"
      ]
     },
     "execution_count": 71,
     "metadata": {},
     "output_type": "execute_result"
    }
   ],
   "source": [
    "a=[1,2,3]\n",
    "a*2"
   ]
  },
  {
   "cell_type": "code",
   "execution_count": 72,
   "id": "4e595d72-f6bf-4aff-9a07-1ac5e54bdb41",
   "metadata": {},
   "outputs": [],
   "source": [
    "name=\"I am a string\""
   ]
  },
  {
   "cell_type": "code",
   "execution_count": 74,
   "id": "607cdb03-c956-474a-92c7-8c1114e2dcc1",
   "metadata": {},
   "outputs": [
    {
     "data": {
      "text/plain": [
       "'I am'"
      ]
     },
     "execution_count": 74,
     "metadata": {},
     "output_type": "execute_result"
    }
   ],
   "source": [
    "name[:4]"
   ]
  },
  {
   "cell_type": "code",
   "execution_count": 75,
   "id": "cd4c9664-5d6f-4e72-ae00-f7665aff767e",
   "metadata": {},
   "outputs": [
    {
     "name": "stdout",
     "output_type": "stream",
     "text": [
      "**********\n"
     ]
    }
   ],
   "source": [
    "a=\"*\"\n",
    "print (a*10)"
   ]
  },
  {
   "cell_type": "code",
   "execution_count": 83,
   "id": "acd3bf53-8d03-42fd-a4d6-f7ca38b8ea80",
   "metadata": {},
   "outputs": [
    {
     "name": "stdin",
     "output_type": "stream",
     "text": [
      " 5\n"
     ]
    },
    {
     "name": "stdout",
     "output_type": "stream",
     "text": [
      "5  is bigger than 5\n",
      "hello, I'm back\n"
     ]
    }
   ],
   "source": [
    "a=int(input())\n",
    "if (a==5):\n",
    "    print (a, \" is bigger than 5\")\n",
    "print (\"hello, I'm back\")"
   ]
  },
  {
   "cell_type": "code",
   "execution_count": 84,
   "id": "f45e422d-6a8a-44cc-a425-31e5d68f1d6a",
   "metadata": {},
   "outputs": [
    {
     "name": "stdout",
     "output_type": "stream",
     "text": [
      "True\n"
     ]
    }
   ],
   "source": [
    "print (a==5)"
   ]
  },
  {
   "cell_type": "code",
   "execution_count": 86,
   "id": "4e01a824-304a-4177-be2e-5a2d4136c4c4",
   "metadata": {},
   "outputs": [
    {
     "name": "stdout",
     "output_type": "stream",
     "text": [
      "grape lemon strawberry orange kiwi peach fig melon "
     ]
    }
   ],
   "source": [
    "for i in fruits:\n",
    "    print (i, end=' ')"
   ]
  },
  {
   "cell_type": "code",
   "execution_count": 87,
   "id": "e3e29d79-d110-4135-a8ad-8245ab396667",
   "metadata": {},
   "outputs": [],
   "source": [
    "ratings = {\n",
    "    \"Ex Machina\": 7.7,\n",
    "    \"Mad Max: Fury Road\": 8.1,\n",
    "    \"1408\" : 6.8,\n",
    "    \"Blade Runner\" : 10\n",
    "}"
   ]
  },
  {
   "cell_type": "code",
   "execution_count": 88,
   "id": "07163ef3-a1e2-4e32-b683-272306243a27",
   "metadata": {},
   "outputs": [],
   "source": [
    "ratings['Dead Pool']=8"
   ]
  },
  {
   "cell_type": "code",
   "execution_count": 89,
   "id": "e234bc54-e7ba-4cd3-bc7a-43ed50c79a96",
   "metadata": {},
   "outputs": [
    {
     "data": {
      "text/plain": [
       "{'Ex Machina': 7.7,\n",
       " 'Mad Max: Fury Road': 8.1,\n",
       " '1408': 6.8,\n",
       " 'Blade Runner': 10,\n",
       " 'Dead Pool': 8}"
      ]
     },
     "execution_count": 89,
     "metadata": {},
     "output_type": "execute_result"
    }
   ],
   "source": [
    "ratings"
   ]
  },
  {
   "cell_type": "code",
   "execution_count": 90,
   "id": "129a545c-526d-4e81-8226-66f2565ad665",
   "metadata": {},
   "outputs": [],
   "source": [
    "ratings['Ex Machina']=7.2"
   ]
  },
  {
   "cell_type": "code",
   "execution_count": 91,
   "id": "e9b24869-0874-46cb-90ba-0aa00c1ee3f2",
   "metadata": {},
   "outputs": [
    {
     "data": {
      "text/plain": [
       "{'Ex Machina': 7.2,\n",
       " 'Mad Max: Fury Road': 8.1,\n",
       " '1408': 6.8,\n",
       " 'Blade Runner': 10,\n",
       " 'Dead Pool': 8}"
      ]
     },
     "execution_count": 91,
     "metadata": {},
     "output_type": "execute_result"
    }
   ],
   "source": [
    "ratings"
   ]
  },
  {
   "cell_type": "code",
   "execution_count": 92,
   "id": "24e728cb-4f77-4a4f-8941-294ec471f6b0",
   "metadata": {},
   "outputs": [],
   "source": [
    "del(ratings[\"1408\"])"
   ]
  },
  {
   "cell_type": "code",
   "execution_count": 93,
   "id": "a89cd6fd-9571-4e02-a2ef-92547d8850c9",
   "metadata": {},
   "outputs": [
    {
     "data": {
      "text/plain": [
       "{'Ex Machina': 7.2,\n",
       " 'Mad Max: Fury Road': 8.1,\n",
       " 'Blade Runner': 10,\n",
       " 'Dead Pool': 8}"
      ]
     },
     "execution_count": 93,
     "metadata": {},
     "output_type": "execute_result"
    }
   ],
   "source": [
    "ratings"
   ]
  },
  {
   "cell_type": "code",
   "execution_count": 95,
   "id": "6ca04acf-596c-4206-8480-73d29c1319bd",
   "metadata": {},
   "outputs": [
    {
     "name": "stdout",
     "output_type": "stream",
     "text": [
      "Ex Machina 7.2\n",
      "Mad Max: Fury Road 8.1\n",
      "Blade Runner 10\n",
      "Dead Pool 8\n"
     ]
    }
   ],
   "source": [
    "for x in ratings:\n",
    "    print (x, ratings[x])"
   ]
  },
  {
   "cell_type": "code",
   "execution_count": 96,
   "id": "ae439cb2-2c9b-448b-b176-b3d4c2917eaa",
   "metadata": {},
   "outputs": [],
   "source": [
    "series={\"Summer Time\":5,\"Better Call Saul\":10,\"Squid Game\":7}"
   ]
  },
  {
   "cell_type": "code",
   "execution_count": 100,
   "id": "98529bdf-4146-406a-9c3f-f6b797e6d766",
   "metadata": {},
   "outputs": [
    {
     "name": "stdout",
     "output_type": "stream",
     "text": [
      "Summer Time ==> 5\n",
      "Better Call Saul ==> 10\n",
      "Squid Game ==> 7\n"
     ]
    }
   ],
   "source": [
    "for x,y in (series.items()):\n",
    "    print (x,\"==>\",y)"
   ]
  },
  {
   "cell_type": "code",
   "execution_count": 98,
   "id": "ce9ae200-4d1b-4920-8297-eaf1be8e16a2",
   "metadata": {},
   "outputs": [
    {
     "data": {
      "text/plain": [
       "dict_items([('Ex Machina', 7.2), ('Mad Max: Fury Road', 8.1), ('Blade Runner', 10), ('Dead Pool', 8)])"
      ]
     },
     "execution_count": 98,
     "metadata": {},
     "output_type": "execute_result"
    }
   ],
   "source": [
    "ratings.items()"
   ]
  },
  {
   "cell_type": "code",
   "execution_count": 101,
   "id": "6a1b5db1-72d1-412e-bff0-f03ed757d749",
   "metadata": {},
   "outputs": [
    {
     "name": "stdout",
     "output_type": "stream",
     "text": [
      "dict_items([('Summer Time', 5), ('Better Call Saul', 10), ('Squid Game', 7)])\n",
      "dict_keys(['Summer Time', 'Better Call Saul', 'Squid Game'])\n",
      "dict_values([5, 10, 7])\n"
     ]
    }
   ],
   "source": [
    "print (series.items())\n",
    "print (series.keys())\n",
    "print (series.values())"
   ]
  },
  {
   "cell_type": "code",
   "execution_count": 103,
   "id": "bb9ea660-ac94-4a58-b756-11dc9d58e6cd",
   "metadata": {},
   "outputs": [
    {
     "name": "stdout",
     "output_type": "stream",
     "text": [
      "1,2,3,4,5,6,7,8,9,10,11,12,13,14,15,16,17,18,19,20,21,22,23,24,25,26,27,28,29,30,31,32,33,34,35,36,37,38,39,40,41,42,43,44,45,46,47,48,49,50,51,52,53,54,55,56,57,58,59,60,61,62,63,64,65,66,67,68,69,70,71,72,73,74,75,76,77,78,79,80,81,82,83,84,85,86,87,88,89,90,91,92,93,94,95,96,97,98,99,100,"
     ]
    }
   ],
   "source": [
    "for x in range(1,101):\n",
    "    print (x, end=',')"
   ]
  },
  {
   "cell_type": "code",
   "execution_count": 104,
   "id": "3d25c65b-524f-469c-8e8b-d42906dc8027",
   "metadata": {},
   "outputs": [],
   "source": [
    "a={1,2,3,2,3,1,5,6,4,3,8,7,9,6,0}\n"
   ]
  },
  {
   "cell_type": "code",
   "execution_count": 106,
   "id": "bbf8b585-8020-4a21-9b74-7d994f508a8a",
   "metadata": {},
   "outputs": [],
   "source": [
    "b={99,98,97,7}"
   ]
  },
  {
   "cell_type": "code",
   "execution_count": 109,
   "id": "8b65a972-62c4-48a5-b124-75d45245f878",
   "metadata": {},
   "outputs": [
    {
     "data": {
      "text/plain": [
       "{0, 1, 2, 3, 4, 5, 6, 8, 9}"
      ]
     },
     "execution_count": 109,
     "metadata": {},
     "output_type": "execute_result"
    }
   ],
   "source": [
    "a-b"
   ]
  },
  {
   "cell_type": "code",
   "execution_count": 113,
   "id": "87665407-2ee5-4867-ba21-6041ff6779b6",
   "metadata": {},
   "outputs": [
    {
     "data": {
      "text/plain": [
       "{0, 1, 2, 3, 4, 5, 6, 7, 8, 9, 97, 98, 99}"
      ]
     },
     "execution_count": 113,
     "metadata": {},
     "output_type": "execute_result"
    }
   ],
   "source": [
    "a.union(b)"
   ]
  },
  {
   "cell_type": "code",
   "execution_count": 119,
   "id": "9ce683f4-0bca-4589-ba24-16f6467b91bf",
   "metadata": {},
   "outputs": [],
   "source": [
    "mytuple = (\"apple\", \"banana\", \"cherry\", \"apple\")"
   ]
  },
  {
   "cell_type": "code",
   "execution_count": 120,
   "id": "4712a144-cc45-4a72-9734-de4f1c6c9ac8",
   "metadata": {},
   "outputs": [
    {
     "data": {
      "text/plain": [
       "('apple', 'banana', 'cherry', 'apple')"
      ]
     },
     "execution_count": 120,
     "metadata": {},
     "output_type": "execute_result"
    }
   ],
   "source": [
    "mytuple[:]"
   ]
  },
  {
   "cell_type": "code",
   "execution_count": 118,
   "id": "12325be5-9dcc-4505-b60c-c99133578e05",
   "metadata": {},
   "outputs": [
    {
     "ename": "TypeError",
     "evalue": "'tuple' object does not support item assignment",
     "output_type": "error",
     "traceback": [
      "\u001b[0;31m---------------------------------------------------------------------------\u001b[0m",
      "\u001b[0;31mTypeError\u001b[0m                                 Traceback (most recent call last)",
      "\u001b[0;32m/var/folders/q_/kjfqpv9x6yn1mmjwphl_yzz00000gn/T/ipykernel_2789/2198612396.py\u001b[0m in \u001b[0;36m<module>\u001b[0;34m\u001b[0m\n\u001b[0;32m----> 1\u001b[0;31m \u001b[0mmytuple\u001b[0m\u001b[0;34m[\u001b[0m\u001b[0;36m0\u001b[0m\u001b[0;34m]\u001b[0m\u001b[0;34m=\u001b[0m\u001b[0;34m'strawberry'\u001b[0m\u001b[0;34m\u001b[0m\u001b[0;34m\u001b[0m\u001b[0m\n\u001b[0m",
      "\u001b[0;31mTypeError\u001b[0m: 'tuple' object does not support item assignment"
     ]
    }
   ],
   "source": [
    "mytuple[0]='strawberry'"
   ]
  },
  {
   "cell_type": "code",
   "execution_count": 121,
   "id": "4197e2cd-993c-49ef-a4ec-4f392e613f11",
   "metadata": {},
   "outputs": [
    {
     "data": {
      "text/plain": [
       "tuple"
      ]
     },
     "execution_count": 121,
     "metadata": {},
     "output_type": "execute_result"
    }
   ],
   "source": [
    "type(mytuple)"
   ]
  },
  {
   "cell_type": "code",
   "execution_count": 122,
   "id": "ea8b7046-1e65-4c09-8977-b48f41f6f34a",
   "metadata": {},
   "outputs": [],
   "source": [
    "a=(1,2,4)\n",
    "b=tuple((\"strawberry\",\"apple\"))"
   ]
  },
  {
   "cell_type": "code",
   "execution_count": 123,
   "id": "24a1301b-e97e-4d47-ae5f-0cc995167bc5",
   "metadata": {},
   "outputs": [
    {
     "data": {
      "text/plain": [
       "('strawberry', 'apple')"
      ]
     },
     "execution_count": 123,
     "metadata": {},
     "output_type": "execute_result"
    }
   ],
   "source": [
    "b"
   ]
  },
  {
   "cell_type": "markdown",
   "id": "6101dbff-2e9b-44da-a335-1a7c86ded8a3",
   "metadata": {},
   "source": [
    "from the string \"ArtificialIntelligence\" extract only the even characters\n",
    "expected output: riiilnelgne"
   ]
  },
  {
   "cell_type": "code",
   "execution_count": 124,
   "id": "38758f91-36b9-4509-a911-3a37f7ec21e7",
   "metadata": {},
   "outputs": [],
   "source": [
    "name=\"ArtificialIntelligence\""
   ]
  },
  {
   "cell_type": "code",
   "execution_count": 127,
   "id": "22fe6c4b-32da-49f7-a403-b10aa89d130e",
   "metadata": {},
   "outputs": [
    {
     "data": {
      "text/plain": [
       "'riiilnelgne'"
      ]
     },
     "execution_count": 127,
     "metadata": {},
     "output_type": "execute_result"
    }
   ],
   "source": [
    "name[1::2]"
   ]
  },
  {
   "cell_type": "code",
   "execution_count": 129,
   "id": "6fd8f68f-1a97-479d-9b63-d46b57b08ee9",
   "metadata": {},
   "outputs": [
    {
     "name": "stdout",
     "output_type": "stream",
     "text": [
      "riiilnelgne"
     ]
    }
   ],
   "source": [
    "counter=0\n",
    "for x in name:\n",
    "    counter+=1\n",
    "    if counter%2==0:\n",
    "        print (x,end='')"
   ]
  },
  {
   "cell_type": "code",
   "execution_count": null,
   "id": "11bc6c14-4fd3-4cb3-84aa-51ad111db549",
   "metadata": {},
   "outputs": [],
   "source": []
  }
 ],
 "metadata": {
  "kernelspec": {
   "display_name": "Python 3 (ipykernel)",
   "language": "python",
   "name": "python3"
  },
  "language_info": {
   "codemirror_mode": {
    "name": "ipython",
    "version": 3
   },
   "file_extension": ".py",
   "mimetype": "text/x-python",
   "name": "python",
   "nbconvert_exporter": "python",
   "pygments_lexer": "ipython3",
   "version": "3.9.7"
  }
 },
 "nbformat": 4,
 "nbformat_minor": 5
}
