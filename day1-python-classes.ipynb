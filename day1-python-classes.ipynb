{
 "cells": [
  {
   "cell_type": "markdown",
   "id": "664cd1c4-bdec-457d-8d17-a16ac6b8e97d",
   "metadata": {},
   "source": [
    "# Object Oriented Programming"
   ]
  },
  {
   "cell_type": "markdown",
   "id": "bf4f9d58-7d5f-4785-a22f-b2128dd4e3d8",
   "metadata": {},
   "source": [
    "### classes are objects and are useful to provide an abstraction model to represent business elements and mix programming functions and **data** into a single object\n"
   ]
  },
  {
   "cell_type": "code",
   "execution_count": 1,
   "id": "78a120c2-d347-4566-ab52-1400d44fc410",
   "metadata": {},
   "outputs": [],
   "source": [
    "class MyClass:\n",
    "    hi=\"hi, I'm a class!\""
   ]
  },
  {
   "cell_type": "code",
   "execution_count": 2,
   "id": "ee90fb13-93d2-4c6f-8013-94237d30a247",
   "metadata": {},
   "outputs": [],
   "source": [
    "k=MyClass()\n"
   ]
  },
  {
   "cell_type": "code",
   "execution_count": 3,
   "id": "70cf2859-7537-48ac-9bb2-b4f5cc35ee84",
   "metadata": {},
   "outputs": [
    {
     "data": {
      "text/plain": [
       "__main__.MyClass"
      ]
     },
     "execution_count": 3,
     "metadata": {},
     "output_type": "execute_result"
    }
   ],
   "source": [
    "type(k)"
   ]
  },
  {
   "cell_type": "code",
   "execution_count": 4,
   "id": "797d2653-7b31-4a24-8377-3e0d1f23c20b",
   "metadata": {},
   "outputs": [
    {
     "name": "stdout",
     "output_type": "stream",
     "text": [
      "hi, I'm a class!\n"
     ]
    }
   ],
   "source": [
    "print(k.hi)"
   ]
  },
  {
   "cell_type": "markdown",
   "id": "8829d704-89b5-4ed5-8296-47adf5b1c760",
   "metadata": {},
   "source": [
    "### The constructor in python is the ```__init__``` method\n",
    "Note: the constructor is called automatically when the class is instantiated !"
   ]
  },
  {
   "cell_type": "code",
   "execution_count": 7,
   "id": "2305dbfd-6bc9-4ccc-8d95-0c9232a4da2f",
   "metadata": {},
   "outputs": [
    {
     "name": "stdout",
     "output_type": "stream",
     "text": [
      "John\n",
      "36\n"
     ]
    }
   ],
   "source": [
    "class Person:\n",
    "  def __init__(self, name, age):\n",
    "    self.name = name\n",
    "    self.age = age\n",
    "\n",
    "p1 = Person(\"John\", 36)\n",
    "\n",
    "print(p1.name)\n",
    "print(p1.age)"
   ]
  },
  {
   "cell_type": "markdown",
   "id": "4b0e50da-be07-44d1-99b7-731643aa8f95",
   "metadata": {},
   "source": [
    "### Bundling data and methods is key to object oriented programming, and is called ENCAPSULATION"
   ]
  },
  {
   "cell_type": "markdown",
   "id": "212713a5-aba5-493b-8dce-d5f4b3c5fd90",
   "metadata": {},
   "source": [
    "### Introducing class methods:"
   ]
  },
  {
   "cell_type": "code",
   "execution_count": 9,
   "id": "f0075f83-3b07-4482-a646-147747a51f37",
   "metadata": {},
   "outputs": [
    {
     "name": "stdout",
     "output_type": "stream",
     "text": [
      "Hello my name is John\n"
     ]
    }
   ],
   "source": [
    "class Person:\n",
    "  def __init__(self, name, age):\n",
    "    self.name = name\n",
    "    self.age = age\n",
    "\n",
    "  def sayHi(self):\n",
    "    print(\"Hello my name is \" + self.name)\n",
    "\n",
    "p1 = Person(\"John\", 36)\n",
    "p1.sayHi()"
   ]
  },
  {
   "cell_type": "markdown",
   "id": "119d41d3-0a1d-417d-bbaa-8d0a622e2ce2",
   "metadata": {},
   "source": [
    "Note: The self parameter is a reference to the current instance of the class, and is used to access variables that belong to the class. Its name can be changed but don't do it."
   ]
  },
  {
   "cell_type": "markdown",
   "id": "7c1b1c6e-3fae-4f81-871f-9d7d46062e4d",
   "metadata": {},
   "source": [
    "# Object inheritance"
   ]
  },
  {
   "cell_type": "code",
   "execution_count": 10,
   "id": "50e1b7c3-0102-4190-ac7f-949daac69aeb",
   "metadata": {},
   "outputs": [],
   "source": [
    "class Person:\n",
    "  def __init__(self, fname, lname):\n",
    "    self.firstname = fname\n",
    "    self.lastname = lname\n",
    "\n",
    "  def whoami(self):\n",
    "    print(self.firstname, self.lastname)\n",
    "\n",
    "#Use the Person class to create an object, and then execute the printname method:"
   ]
  },
  {
   "cell_type": "markdown",
   "id": "735be63e-f684-45da-8f1f-12ebb3434672",
   "metadata": {},
   "source": [
    "### now the class citizen has inherited the behavior of Person"
   ]
  },
  {
   "cell_type": "code",
   "execution_count": 11,
   "id": "ffb7dee7-34a1-428e-b66b-a7733a291f95",
   "metadata": {},
   "outputs": [],
   "source": [
    "class citizen(Person):\n",
    "    def ssn(self):\n",
    "        return (\"\".join([x for x in self.lastname+self.firstname if x not in ('a','i','u','o','e')]).upper())"
   ]
  },
  {
   "cell_type": "code",
   "execution_count": 12,
   "id": "7c1c3768-1710-4626-8fb3-3e5dcfd088dd",
   "metadata": {},
   "outputs": [],
   "source": [
    "\n",
    "p2=citizen('Gabriele','Tazzari')\n"
   ]
  },
  {
   "cell_type": "code",
   "execution_count": 13,
   "id": "77d85051-8aa4-4cb7-a1d6-eb480633a891",
   "metadata": {},
   "outputs": [
    {
     "name": "stdout",
     "output_type": "stream",
     "text": [
      "Gabriele Tazzari\n"
     ]
    }
   ],
   "source": [
    "p2.whoami()"
   ]
  },
  {
   "cell_type": "code",
   "execution_count": 14,
   "id": "a9718e03-3878-4d7c-a982-9d7e1522230c",
   "metadata": {},
   "outputs": [
    {
     "data": {
      "text/plain": [
       "'TZZRGBRL'"
      ]
     },
     "execution_count": 14,
     "metadata": {},
     "output_type": "execute_result"
    }
   ],
   "source": [
    "p2.ssn()"
   ]
  },
  {
   "cell_type": "markdown",
   "id": "52a10b4e-691e-4ff0-8f4f-c7b015b7645d",
   "metadata": {},
   "source": [
    "### Overriding the ```__init__``` method"
   ]
  },
  {
   "cell_type": "code",
   "execution_count": 15,
   "id": "1cb4f0fe-f8c7-4689-805e-3e37cec68288",
   "metadata": {},
   "outputs": [],
   "source": [
    "class citizen(Person):\n",
    "    def __init__ (self,fname,lname, birthdate):\n",
    "        super().__init__(fname,lname)\n",
    "        self.birthdate=birthdate\n",
    "    def ssn(self):\n",
    "        return (\"\".join([x for x in self.lastname+self.birthdate[-2:]+self.firstname if x not in ('a','i','u','o','e')]).upper())\n",
    "    def whoami(self):\n",
    "        print (self.firstname, self.lastname, \"born:\", self.birthdate)"
   ]
  },
  {
   "cell_type": "code",
   "execution_count": 16,
   "id": "edcc205f-f74e-43c7-8e67-e220368fdd96",
   "metadata": {},
   "outputs": [],
   "source": [
    "p1=citizen('Gabriele','Tazzari','18/05/1971')"
   ]
  },
  {
   "cell_type": "code",
   "execution_count": 17,
   "id": "d8998a17-8eb6-47a3-9f6f-74bf6b5bf8ec",
   "metadata": {},
   "outputs": [
    {
     "data": {
      "text/plain": [
       "'TZZR71GBRL'"
      ]
     },
     "execution_count": 17,
     "metadata": {},
     "output_type": "execute_result"
    }
   ],
   "source": [
    "p1.ssn()"
   ]
  },
  {
   "cell_type": "code",
   "execution_count": 18,
   "id": "0a2c396d-b5fb-4772-94c8-a75f59e3b6e7",
   "metadata": {},
   "outputs": [
    {
     "name": "stdout",
     "output_type": "stream",
     "text": [
      "Gabriele Tazzari born: 18/05/1971\n"
     ]
    }
   ],
   "source": [
    "p1.whoami()"
   ]
  },
  {
   "cell_type": "markdown",
   "id": "9596018d-94f7-4883-850a-f6f9abe4aa8c",
   "metadata": {},
   "source": [
    "### In this case the method WHOAMI has been overridden, or modified from the inheriting object. This feature is called POLYMORPHISM"
   ]
  },
  {
   "cell_type": "code",
   "execution_count": 1,
   "id": "ccbd3989-a3eb-44a8-9e13-4abcb871ae0e",
   "metadata": {},
   "outputs": [],
   "source": [
    "class hackedstring(str):\n",
    "    def __len__(self):\n",
    "        return 0"
   ]
  },
  {
   "cell_type": "code",
   "execution_count": 2,
   "id": "5cf47fb5-f095-412a-953d-bb78f96474b2",
   "metadata": {},
   "outputs": [],
   "source": [
    "a=hackedstring('longstringahead')"
   ]
  },
  {
   "cell_type": "code",
   "execution_count": 3,
   "id": "e6de4417-6504-447b-a8e8-99f09e63c39f",
   "metadata": {},
   "outputs": [
    {
     "name": "stdout",
     "output_type": "stream",
     "text": [
      "0\n"
     ]
    }
   ],
   "source": [
    "print(len(a))\n"
   ]
  },
  {
   "cell_type": "code",
   "execution_count": 4,
   "id": "746cd960-1c22-4eac-845f-008b182b5f79",
   "metadata": {},
   "outputs": [
    {
     "data": {
      "text/plain": [
       "'LONGSTRINGAHEAD'"
      ]
     },
     "execution_count": 4,
     "metadata": {},
     "output_type": "execute_result"
    }
   ],
   "source": [
    "a.upper()"
   ]
  },
  {
   "cell_type": "code",
   "execution_count": 5,
   "id": "a143c68f-c901-4623-8633-20f56c415103",
   "metadata": {},
   "outputs": [
    {
     "data": {
      "text/plain": [
       "__main__.hackedstring"
      ]
     },
     "execution_count": 5,
     "metadata": {},
     "output_type": "execute_result"
    }
   ],
   "source": [
    "type(a)"
   ]
  }
 ],
 "metadata": {
  "kernelspec": {
   "display_name": "Python 3 (ipykernel)",
   "language": "python",
   "name": "python3"
  },
  "language_info": {
   "codemirror_mode": {
    "name": "ipython",
    "version": 3
   },
   "file_extension": ".py",
   "mimetype": "text/x-python",
   "name": "python",
   "nbconvert_exporter": "python",
   "pygments_lexer": "ipython3",
   "version": "3.9.7"
  }
 },
 "nbformat": 4,
 "nbformat_minor": 5
}
