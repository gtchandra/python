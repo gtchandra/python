{
 "cells": [
  {
   "cell_type": "markdown",
   "id": "29473860-7c03-4143-bf91-317176b7356d",
   "metadata": {},
   "source": [
    "# Example DMP APIs, identify data source and download one file on the local machine"
   ]
  },
  {
   "cell_type": "markdown",
   "id": "2374d877-f7dc-4b3a-8c99-7f60823ec20b",
   "metadata": {},
   "source": [
    "# API Keys\n",
    "Name: test_key (REVOKED)\n",
    "Public: 9b56a39e-75ad-4fb6-80be-fd85057208c2\n",
    "Secret: b71fbb24-331b-4e62-a799-4868ba6a9994"
   ]
  },
  {
   "cell_type": "code",
   "execution_count": 1,
   "id": "fe533a35-62b8-41d4-a9bb-c91911cdb0a8",
   "metadata": {},
   "outputs": [],
   "source": [
    "import requests,json\n",
    "public_key=\"9b56a39e-75ad-4fb6-80be-fd85057208c2\"\n",
    "secret_key=os.getenv(\"DMP_PRIVATE\")\n",
    "\n",
    "keystring=f\"{public_key}:{secret_key}\"\n",
    "header={'accept': 'application/json',\"X-Api-Key\": keystring}"
   ]
  },
  {
   "cell_type": "code",
   "execution_count": 2,
   "id": "98a58ad2-97a6-4e99-b85e-bebdf82f3c1f",
   "metadata": {},
   "outputs": [
    {
     "data": {
      "text/plain": [
       "{'accept': 'application/json',\n",
       " 'X-Api-Key': '9b56a39e-75ad-4fb6-80be-fd85057208c2:b71fbb24-331b-4e62-a799-4868ba6a9994'}"
      ]
     },
     "execution_count": 2,
     "metadata": {},
     "output_type": "execute_result"
    }
   ],
   "source": [
    "header"
   ]
  },
  {
   "cell_type": "code",
   "execution_count": 3,
   "id": "98b910c3-7395-4ed3-90b7-173e59eec28c",
   "metadata": {},
   "outputs": [],
   "source": [
    "dataSourceID='621cb5871bb77d5198eda1c5'\n",
    "\n",
    "url=f\"https://dmp.dare-ravenna.eu/api/datasources/{dataSourceID}/catalog\"\n",
    "#url=f\"https://dmp.dare-ravenna.eu/api/catalog\" #full catalog\n",
    "#url='https://dmp.dare-ravenna.eu/api/users'\n"
   ]
  },
  {
   "cell_type": "code",
   "execution_count": 8,
   "id": "97784a57-3cd6-4e37-8fbf-fc25c5d469a5",
   "metadata": {},
   "outputs": [],
   "source": [
    "#print (result)\n",
    "#z=[(x['_id'], x['meta']) for x in result if x['dataSource']['_id']=='621cb5871bb77d5198eda1c5'] # for full catalog browsing\n",
    "#fileId=z[-1][0] #for full catalog browsing\n",
    "#[(x['_id'], x['meta']) for x in result if x['dataSource']['_id']=='621cb5871bb77d5198eda1c5'] #full catalog access"
   ]
  },
  {
   "cell_type": "code",
   "execution_count": 4,
   "id": "30e91487-3cf0-49c0-b7e9-1aa831680f25",
   "metadata": {},
   "outputs": [
    {
     "name": "stdout",
     "output_type": "stream",
     "text": [
      "[\n",
      "  {\n",
      "    \"_id\": \"621cf48c4a6b13c01cb362d2\",\n",
      "    \"dataSource\": \"621cb5871bb77d5198eda1c5\",\n",
      "    \"source\": \"S3\",\n",
      "    \"meta\": {\n",
      "      \"path\": \"Salute/covid_19_IT2022-02-28_16-13-00.csv\"\n",
      "    },\n",
      "    \"createdAt\": \"2022-02-28T16:13:00.948Z\",\n",
      "    \"updatedAt\": \"2022-02-28T16:13:00.948Z\"\n",
      "  },\n",
      "  {\n",
      "    \"_id\": \"621cf4c9b2675d9e12a1f558\",\n",
      "    \"dataSource\": \"621cb5871bb77d5198eda1c5\",\n",
      "    \"source\": \"S3\",\n",
      "    \"meta\": {\n",
      "      \"path\": \"Salute/covid_19_IT2022-02-28_16-14-01.csv\"\n",
      "    },\n",
      "    \"createdAt\": \"2022-02-28T16:14:01.316Z\",\n",
      "    \"updatedAt\": \"2022-02-28T16:14:01.316Z\"\n",
      "  },\n",
      "  {\n",
      "    \"_id\": \"621cf5053b10a15eecf1887c\",\n",
      "    \"dataSource\": \"621cb5871bb77d5198eda1c5\",\n",
      "    \"source\": \"S3\",\n",
      "    \"meta\": {\n",
      "      \"path\": \"Salute/covid_19_IT2022-02-28_16-15-01.csv\"\n",
      "    },\n",
      "    \"createdAt\": \"2022-02-28T16:15:01.754Z\",\n",
      "    \"updatedAt\": \"2022-02-28T16:15:01.755Z\"\n",
      "  },\n",
      "  {\n",
      "    \"_id\": \"621cf720b0c46cac9ff2e5ce\",\n",
      "    \"dataSource\": \"621cb5871bb77d5198eda1c5\",\n",
      "    \"source\": \"S3\",\n",
      "    \"meta\": {\n",
      "      \"path\": \"Salute/WHO-COVID-19-global-data2022-02-28_16-24-00.csv\"\n",
      "    },\n",
      "    \"createdAt\": \"2022-02-28T16:24:00.868Z\",\n",
      "    \"updatedAt\": \"2022-02-28T16:24:00.868Z\"\n",
      "  },\n",
      "  {\n",
      "    \"_id\": \"621cf720b0c46cac9ff2e5d0\",\n",
      "    \"dataSource\": \"621cb5871bb77d5198eda1c5\",\n",
      "    \"source\": \"S3\",\n",
      "    \"meta\": {\n",
      "      \"path\": \"Salute/IT-only2022-02-28_16-24-00.csv\"\n",
      "    },\n",
      "    \"createdAt\": \"2022-02-28T16:24:00.872Z\",\n",
      "    \"updatedAt\": \"2022-02-28T16:24:00.872Z\"\n",
      "  }\n",
      "]\n"
     ]
    }
   ],
   "source": [
    "result=requests.get(url,headers=header).json()\n",
    "\n",
    "print (json.dumps(result, indent=2))"
   ]
  },
  {
   "cell_type": "code",
   "execution_count": 5,
   "id": "de83ebd8-a13d-4d75-bc64-d2b7a6f16017",
   "metadata": {},
   "outputs": [],
   "source": [
    "## Note the structure of the Json output, can we sort it ?l\n",
    "result.sort(key = lambda x: x['updatedAt'],reverse=True)"
   ]
  },
  {
   "cell_type": "code",
   "execution_count": 6,
   "id": "c32e3f08-89a7-4cb0-859b-6f6f09ca947c",
   "metadata": {},
   "outputs": [
    {
     "name": "stdout",
     "output_type": "stream",
     "text": [
      "[\n",
      "  {\n",
      "    \"_id\": \"621cf720b0c46cac9ff2e5d0\",\n",
      "    \"dataSource\": \"621cb5871bb77d5198eda1c5\",\n",
      "    \"source\": \"S3\",\n",
      "    \"meta\": {\n",
      "      \"path\": \"Salute/IT-only2022-02-28_16-24-00.csv\"\n",
      "    },\n",
      "    \"createdAt\": \"2022-02-28T16:24:00.872Z\",\n",
      "    \"updatedAt\": \"2022-02-28T16:24:00.872Z\"\n",
      "  },\n",
      "  {\n",
      "    \"_id\": \"621cf720b0c46cac9ff2e5ce\",\n",
      "    \"dataSource\": \"621cb5871bb77d5198eda1c5\",\n",
      "    \"source\": \"S3\",\n",
      "    \"meta\": {\n",
      "      \"path\": \"Salute/WHO-COVID-19-global-data2022-02-28_16-24-00.csv\"\n",
      "    },\n",
      "    \"createdAt\": \"2022-02-28T16:24:00.868Z\",\n",
      "    \"updatedAt\": \"2022-02-28T16:24:00.868Z\"\n",
      "  },\n",
      "  {\n",
      "    \"_id\": \"621cf5053b10a15eecf1887c\",\n",
      "    \"dataSource\": \"621cb5871bb77d5198eda1c5\",\n",
      "    \"source\": \"S3\",\n",
      "    \"meta\": {\n",
      "      \"path\": \"Salute/covid_19_IT2022-02-28_16-15-01.csv\"\n",
      "    },\n",
      "    \"createdAt\": \"2022-02-28T16:15:01.754Z\",\n",
      "    \"updatedAt\": \"2022-02-28T16:15:01.755Z\"\n",
      "  },\n",
      "  {\n",
      "    \"_id\": \"621cf4c9b2675d9e12a1f558\",\n",
      "    \"dataSource\": \"621cb5871bb77d5198eda1c5\",\n",
      "    \"source\": \"S3\",\n",
      "    \"meta\": {\n",
      "      \"path\": \"Salute/covid_19_IT2022-02-28_16-14-01.csv\"\n",
      "    },\n",
      "    \"createdAt\": \"2022-02-28T16:14:01.316Z\",\n",
      "    \"updatedAt\": \"2022-02-28T16:14:01.316Z\"\n",
      "  },\n",
      "  {\n",
      "    \"_id\": \"621cf48c4a6b13c01cb362d2\",\n",
      "    \"dataSource\": \"621cb5871bb77d5198eda1c5\",\n",
      "    \"source\": \"S3\",\n",
      "    \"meta\": {\n",
      "      \"path\": \"Salute/covid_19_IT2022-02-28_16-13-00.csv\"\n",
      "    },\n",
      "    \"createdAt\": \"2022-02-28T16:13:00.948Z\",\n",
      "    \"updatedAt\": \"2022-02-28T16:13:00.948Z\"\n",
      "  }\n",
      "]\n"
     ]
    }
   ],
   "source": [
    "print (json.dumps(result, indent=2))"
   ]
  },
  {
   "cell_type": "code",
   "execution_count": 7,
   "id": "b6098b05-722f-42a4-ba4c-1f5f44d176c0",
   "metadata": {},
   "outputs": [],
   "source": [
    "# now that the file is sorted we can access the file we want to download:\n",
    "fileId=result[0]['_id']"
   ]
  },
  {
   "cell_type": "code",
   "execution_count": 8,
   "id": "a9a9ab02-4517-4746-87b1-216c729308fa",
   "metadata": {},
   "outputs": [
    {
     "data": {
      "text/plain": [
       "41468"
      ]
     },
     "execution_count": 8,
     "metadata": {},
     "output_type": "execute_result"
    }
   ],
   "source": [
    "url=f\"https://dmp.dare-ravenna.eu/api/datasources/{dataSourceID}/catalog/{fileId}\"\n",
    "file=requests.get(url,headers=header)\n",
    "open('daticovid.csv','wb').write(file.content)"
   ]
  },
  {
   "cell_type": "code",
   "execution_count": null,
   "id": "67622903-da74-4883-abb1-7ce4496c70d4",
   "metadata": {},
   "outputs": [],
   "source": []
  }
 ],
 "metadata": {
  "kernelspec": {
   "display_name": "Python 3 (ipykernel)",
   "language": "python",
   "name": "python3"
  },
  "language_info": {
   "codemirror_mode": {
    "name": "ipython",
    "version": 3
   },
   "file_extension": ".py",
   "mimetype": "text/x-python",
   "name": "python",
   "nbconvert_exporter": "python",
   "pygments_lexer": "ipython3",
   "version": "3.9.7"
  }
 },
 "nbformat": 4,
 "nbformat_minor": 5
}
